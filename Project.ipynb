{
  "nbformat": 4,
  "nbformat_minor": 0,
  "metadata": {
    "colab": {
      "name": "Project.ipynb",
      "private_outputs": true,
      "provenance": [],
      "collapsed_sections": [],
      "authorship_tag": "ABX9TyMmesZEXEtSC0yS5KmDtOGB",
      "include_colab_link": true
    },
    "kernelspec": {
      "name": "python3",
      "display_name": "Python 3"
    }
  },
  "cells": [
    {
      "cell_type": "markdown",
      "metadata": {
        "id": "view-in-github",
        "colab_type": "text"
      },
      "source": [
        "<a href=\"https://colab.research.google.com/github/dimitar1978/Manolov/blob/main/Project.ipynb\" target=\"_parent\"><img src=\"https://colab.research.google.com/assets/colab-badge.svg\" alt=\"Open In Colab\"/></a>"
      ]
    },
    {
      "cell_type": "code",
      "metadata": {
        "id": "qwM0Bj1OcmHd"
      },
      "source": [
        "import pandas as pd\r\n",
        "from pandas import Series,DataFrame\r\n",
        "import numpy as np\r\n",
        "\r\n",
        "import matplotlib.pyplot as plt\r\n",
        "import seaborn as sns\r\n",
        "sns.set_style('whitegrid')\r\n"
      ],
      "execution_count": null,
      "outputs": []
    },
    {
      "cell_type": "code",
      "metadata": {
        "id": "g7b8BMprdxPE"
      },
      "source": [
        "from pandas_datareader import DataReader\r\n",
        "from datetime import datetime\r\n",
        "from __future__ import division"
      ],
      "execution_count": null,
      "outputs": []
    },
    {
      "cell_type": "markdown",
      "metadata": {
        "id": "Af-zG2JYeDlq"
      },
      "source": [
        "ANALISE TWO CAR COMPANYS MOST FAMOUS IN USA(FORD) AND EUROPE(VW) FOR 2020"
      ]
    },
    {
      "cell_type": "code",
      "metadata": {
        "id": "7DET_JsUd6Ny"
      },
      "source": [
        "car_list=['VWAGY','FORD']\r\n",
        "\r\n",
        "end=datetime.now()\r\n",
        "start=datetime(end.year-1,end.month,end.day)\r\n",
        "\r\n",
        "for stock in car_list:\r\n",
        "    globals()[stock]=DataReader(stock,'yahoo',start,end)\r\n",
        "\r\n",
        "FORD['Adj Close'].plot(label='Ford',figsize=(16,8),title='Adjusted Close Price',legend=True)\r\n",
        "VWAGY['Adj Close'].plot(label='VWAGY',legend=True)\r\n",
        "\r\n",
        "\r\n",
        "FORD['Volume'].plot(label='Ford',figsize=(14,10),title='Open Price',legend=True)\r\n",
        "VWAGY['Volume'].plot(label='VWAGY',legend=True)\r\n"
      ],
      "execution_count": null,
      "outputs": []
    },
    {
      "cell_type": "markdown",
      "metadata": {
        "id": "Iht0e579e1-h"
      },
      "source": [
        "By checking the Adj Close I can see a big spike for FORD,which i want to investigating further"
      ]
    },
    {
      "cell_type": "code",
      "metadata": {
        "id": "3r87fcZdexvt"
      },
      "source": [
        "FORD['Volume'].argmax()\r\n",
        "\r\n",
        "FORD.iloc[151]\r\n",
        "\r\n",
        "FORD['Volume']['2020-08'].plot(label='Ford',figsize=(14,10),title='Open Price',legend=True) "
      ],
      "execution_count": null,
      "outputs": []
    },
    {
      "cell_type": "markdown",
      "metadata": {
        "id": "NYWI5-Ejh_ex"
      },
      "source": [
        "NEW YORK, Aug. 17, 2020 – All-new versions of the Ford F-150, part of Ford F-Series, America’s most popular truck for 43 years and most popular vehicle for 38 years, and the much-anticipated Ford Bronco rugged SUV debut in New York City today, in conjunction with the company ringing the bell to open trading day on Wall Street."
      ]
    },
    {
      "cell_type": "markdown",
      "metadata": {
        "id": "I3Sy-expiLM5"
      },
      "source": [
        "MARKET CAP -This still isn't the actual Market Cap, its just a visual representation of the total amount of money being traded around using the time series."
      ]
    },
    {
      "cell_type": "code",
      "metadata": {
        "id": "PDJb3TlVh9v2"
      },
      "source": [
        "FORD['Total Traded'] = FORD['Open']*FORD['Volume']\r\n",
        "VWAGY['Total Traded'] = VWAGY['Open']*VWAGY['Volume']\r\n",
        "\r\n",
        "FORD['Total Traded'].plot(label='Ford',figsize=(16,10))\r\n",
        "VWAGY['Total Traded'].plot(label='VWAGY')\r\n",
        "\r\n",
        "plt.legend()\r\n",
        "plt.ylabel('Total Traded')"
      ],
      "execution_count": null,
      "outputs": []
    },
    {
      "cell_type": "markdown",
      "metadata": {
        "id": "FW9oMlJyiioB"
      },
      "source": [
        "Can see that even though Ford has an a big spike of total trading money at certain period, VW also had some money traded overall."
      ]
    },
    {
      "cell_type": "code",
      "metadata": {
        "id": "3QBYeof7i3eE"
      },
      "source": [
        "FORD['Daily_return']=FORD['Adj Close'].pct_change()\r\n",
        "FORD['Daily_return'].plot(figsize=(14,6),legend=True)\r\n"
      ],
      "execution_count": null,
      "outputs": []
    },
    {
      "cell_type": "code",
      "metadata": {
        "id": "TslQT3nRjsUr"
      },
      "source": [
        "FORD['Daily_return'].hist(bins=100,label='FORD',figsize=(10,8),alpha=0.5)\r\n"
      ],
      "execution_count": null,
      "outputs": []
    },
    {
      "cell_type": "code",
      "metadata": {
        "id": "SOa6z8L-jvbB"
      },
      "source": [
        "VWAGY['Daily_return']=VWAGY['Adj Close'].pct_change()\r\n",
        "VWAGY['Daily_return'].plot(figsize=(14,6),legend=True)"
      ],
      "execution_count": null,
      "outputs": []
    },
    {
      "cell_type": "code",
      "metadata": {
        "id": "IWOtiFU6j3Ec"
      },
      "source": [
        "VWAGY['Daily_return'].hist(bins=100,label='VW',figsize=(10,8),alpha=0.5)"
      ],
      "execution_count": null,
      "outputs": []
    },
    {
      "cell_type": "code",
      "metadata": {
        "id": "FgneOtkcj65i"
      },
      "source": [
        "FORD['Daily_return'].hist(bins=100,label='FORD',figsize=(12,6),alpha=0.5)\r\n",
        "VWAGY['Daily_return'].hist(bins=100,label='VW',alpha=0.5)\r\n",
        "plt.legend()\r\n"
      ],
      "execution_count": null,
      "outputs": []
    },
    {
      "cell_type": "markdown",
      "metadata": {
        "id": "kXevZPBMkCJL"
      },
      "source": [
        "I can see ups and downs on the both car company plots.Longer period of loss in VW,however good periods of gain during the year. FORD seems more solid in a way of gain with two good gain spikes.\r\n",
        "From the histogram I can see VW got more solid distribution above 0. \r\n",
        "FORD with kind of Normal Distribution.\r\n",
        "Looking on the last plot where both hist are on top of eachother-FORD seems to overpower the Daily return overall."
      ]
    },
    {
      "cell_type": "code",
      "metadata": {
        "id": "84zhez0_k8Gs"
      },
      "source": [
        "FORD['Daily_return'].plot(kind='kde',label='FORD',figsize=(12,6))\r\n",
        "VWAGY['Daily_return'].plot(kind='kde',label='VW')\r\n",
        "\r\n",
        "box_df = pd.concat([FORD['Daily_return'],VWAGY['Daily_return']],axis=1)\r\n",
        "box_df.columns = ['Ford Returns','VW Returns']\r\n",
        "box_df.plot(kind='box',figsize=(12,8),colormap='jet')"
      ],
      "execution_count": null,
      "outputs": []
    },
    {
      "cell_type": "markdown",
      "metadata": {
        "id": "wtVpOwx5lI_J"
      },
      "source": [
        "FROM KDE(Kernel density estimation) Box plot I can see that FORD can profit more by gaining the bigger above 0 values,unlike VW over.However FORD shows bigger loss value than VW even thugh with not a massive big difference."
      ]
    },
    {
      "cell_type": "markdown",
      "metadata": {
        "id": "Hb-TJyTQnFxN"
      },
      "source": [
        "CUMULATIVE RETURN\r\n",
        "\r\n",
        "While daily returns are useful, it doesn't give the investor a immediate insight into the gains he had made till date.\r\n",
        "Especially if the stock is very volatile. Cumulative return is computed relative to the day investment is made.\r\n",
        "If cumulative return is above one, you are making profits else you are in loss."
      ]
    },
    {
      "cell_type": "code",
      "metadata": {
        "id": "6-gToFKXnMk5"
      },
      "source": [
        "FORD['Cumulative Return'] = (1 + FORD['Daily_return']).cumprod()\r\n",
        "VWAGY['Cumulative Return'] = (1 + VWAGY['Daily_return']).cumprod()\r\n",
        "\r\n",
        "FORD['Cumulative Return'].plot(label='FORD',figsize=(16,8),title='Cumulative Return')\r\n",
        "VWAGY['Cumulative Return'].plot(label='VW')\r\n",
        "plt.legend()"
      ],
      "execution_count": null,
      "outputs": []
    },
    {
      "cell_type": "markdown",
      "metadata": {
        "id": "fFW9cXH0nVFD"
      },
      "source": [
        "Showed the highest return for a $1 invested. Which showed the lowest\r\n",
        "\r\n",
        "This plot show that FORD is way more attractive as the profit continues to grow after may 2020. Where the profit for VW plummet down the begining of the year and slowly recovered to make small profits at the end of 2020 and begining of 2021.\r\n"
      ]
    },
    {
      "cell_type": "code",
      "metadata": {
        "id": "BTgVzviynUJI"
      },
      "source": [
        "FORD['Adj Close'].resample('M').mean().plot(label='FORD')\r\n",
        "VWAGY['Adj Close'].resample('M').mean().plot(label='VW')\r\n",
        "plt.legend()"
      ],
      "execution_count": null,
      "outputs": []
    },
    {
      "cell_type": "markdown",
      "metadata": {
        "id": "vzsB55drnjeR"
      },
      "source": [
        "FROM this montly analyses plot we see that FORD had slight at the first 3 months as VW had bigger drop, After the month of March both company gain momentum and move up for the remainng of the year.\r\n"
      ]
    },
    {
      "cell_type": "markdown",
      "metadata": {
        "id": "VzkrPxIOpF9h"
      },
      "source": [
        "MOVING AVERAGES"
      ]
    },
    {
      "cell_type": "code",
      "metadata": {
        "id": "o-qsgaJTpJ9A"
      },
      "source": [
        "FORD['MA10'] = FORD['Adj Close'].rolling(10).mean()\r\n",
        "FORD['MA20'] = FORD['Adj Close'].rolling(20).mean()\r\n",
        "FORD['MA50'] = FORD['Adj Close'].rolling(50).mean()\r\n",
        "FORD[['Adj Close','MA10','MA20','MA50']].plot(label='FORD',figsize=(16,8))\r\n",
        "\r\n",
        "VWAGY['MA10'] = VWAGY['Adj Close'].rolling(10).mean()\r\n",
        "VWAGY['MA20'] = VWAGY['Adj Close'].rolling(20).mean()\r\n",
        "VWAGY['MA50'] = VWAGY['Adj Close'].rolling(50).mean()\r\n",
        "VWAGY[['Adj Close','MA10','MA20','MA50']].plot(label='VW',figsize=(16,8))\r\n"
      ],
      "execution_count": null,
      "outputs": []
    },
    {
      "cell_type": "markdown",
      "metadata": {
        "id": "ALRYkdfspWwh"
      },
      "source": [
        "Really benefitial to see the trend moving for the 10,20 and 50 days period."
      ]
    },
    {
      "cell_type": "markdown",
      "metadata": {
        "id": "ITUkdq1MpcvR"
      },
      "source": [
        "#CORROLETION BETWEEN THE TWO COMPANY DATA"
      ]
    },
    {
      "cell_type": "code",
      "metadata": {
        "id": "sVN1TAI-pZyo"
      },
      "source": [
        "\r\n",
        "daily_r_corr=pd.concat([FORD['Daily_return'],VWAGY['Daily_return']],axis=1)\r\n",
        "\r\n",
        "daily_r_corr\r\n",
        "\r\n",
        "daily_r_corr.columns.values[[0, 1]] = ['Ford', 'VW']\r\n",
        "\r\n",
        "daily_r_corr\r\n",
        "\r\n",
        "pd.plotting.scatter_matrix(daily_r_corr,figsize=(8,8),alpha=0.2,hist_kwds={'bins':50});\r\n",
        "\r\n",
        "daily_r_corr.plot(kind='scatter',x='Ford',y='VW',alpha=0.4,figsize=(14,8))\r\n",
        "\r\n",
        "sns.heatmap(daily_r_corr.corr(),annot=True)"
      ],
      "execution_count": null,
      "outputs": []
    },
    {
      "cell_type": "markdown",
      "metadata": {
        "id": "cjCvgQYqpp4o"
      },
      "source": [
        "PLOTTING THE DAILY RETURNS FIRST PLOTS SCATTER MATRIX AND 2ND PLOT ONE ON ANOTHER BOTH SHOW 0.16 CORROLETION-NO RELATIONSHIP\r\n",
        "AS EXAMPLE BELLOW WE CAN SEE SOME KIND OF CORROLETION BETWEEN CLOSE VALUES OF THE BOTH COMPANYS WHICH IS APPR:0.64\r\n"
      ]
    },
    {
      "cell_type": "code",
      "metadata": {
        "id": "1o5snQFRp8mD"
      },
      "source": [
        "close=pd.DataFrame()\r\n",
        "\r\n",
        "close['FORD']=FORD['Close']\r\n",
        "close['VW']=VWAGY['Close']\r\n",
        "\r\n",
        "\r\n",
        "sns.pairplot(data=close)\r\n",
        "\r\n",
        "close.plot(kind='scatter',x='FORD',y='VW',alpha=0.4,figsize=(10,6))\r\n",
        "\r\n",
        "sns.heatmap(close.corr(),annot=True)\r\n"
      ],
      "execution_count": null,
      "outputs": []
    },
    {
      "cell_type": "markdown",
      "metadata": {
        "id": "e8RLGlLBqSfL"
      },
      "source": [
        "#RISK ANALYSES"
      ]
    },
    {
      "cell_type": "code",
      "metadata": {
        "id": "2Jp1tAuYqVsv"
      },
      "source": [
        "closing_df=DataReader(car_list,'yahoo',start,end)['Adj Close']\r\n",
        "\r\n",
        "tech_rets=closing_df.pct_change()\r\n",
        "\r\n",
        "tech_rets\r\n",
        "\r\n",
        "rets = tech_rets\r\n",
        "\r\n",
        "area = np.pi*20\r\n",
        "\r\n",
        "plt.scatter(rets.mean(),rets.std(),alpha = 0.5,s =area)\r\n",
        "\r\n",
        "plt.ylim([0.01,0.055])\r\n",
        "plt.xlim([-0.003,0.004])\r\n",
        "\r\n",
        "plt.xlabel('Expected returns')\r\n",
        "plt.ylabel('Risk')\r\n",
        "\r\n",
        "for label, x, y in zip(rets.columns,rets.mean(),rets.std()):\r\n",
        "    plt.annotate(\r\n",
        "        label,\r\n",
        "        xy = (x, y), xytext = (50, 50),\r\n",
        "        textcoords = 'offset points', ha = 'right', va = 'bottom',arrowprops=dict(arrowstyle=\"->\",\r\n",
        "                            connectionstyle=\"arc3\"))"
      ],
      "execution_count": null,
      "outputs": []
    },
    {
      "cell_type": "markdown",
      "metadata": {
        "id": "NgPGwrnNqe5S"
      },
      "source": [
        "We can see higher risk for FORD,however also higher Expected returns.\r\n",
        "Lower risk and lower Expected returns for VW"
      ]
    },
    {
      "cell_type": "code",
      "metadata": {
        "id": "AXCLbeF5qkDa"
      },
      "source": [
        "rets.head()\r\n",
        "ax=sns.displot(VWAGY['Daily_return'].dropna(),bins=100,color='blue')\r\n",
        "ax=sns.displot(FORD['Daily_return'].dropna(),bins=100,color='blue')"
      ],
      "execution_count": null,
      "outputs": []
    },
    {
      "cell_type": "markdown",
      "metadata": {
        "id": "kKGYZ5O4q0R9"
      },
      "source": [
        "Shows the distribution of the Daily Returns from FORD and VW"
      ]
    },
    {
      "cell_type": "code",
      "metadata": {
        "id": "jfM1jI_rq5yZ"
      },
      "source": [
        "rets['FORD'].quantile(0.05)#The 0.05 empirical quantile of daily returns is at -0.048. That means that with 95% confidence,\r\n",
        "#our worst daily loss will not exceed 4.8%. If we have a 1 million dollar investment, our one-day 5% VaR is 0.048 * 1,000,000 = $48,000."
      ],
      "execution_count": null,
      "outputs": []
    },
    {
      "cell_type": "code",
      "metadata": {
        "id": "Smns8r9NrFqN"
      },
      "source": [
        "rets['VWAGY'].quantile(0.05)#The 0.05 empirical quantile of daily returns is at -0.050. That means that with 95% confidence,\r\n",
        "#our worst daily loss will not exceed 5.0%. If we have a 1 million dollar investment, our one-day 5% VaR is 0.044 * 1,000,000 = $55,000.\r\n"
      ],
      "execution_count": null,
      "outputs": []
    },
    {
      "cell_type": "markdown",
      "metadata": {
        "id": "KKKQ3qvurN4F"
      },
      "source": [
        "#MONTE CARLO ANALYSES\r\n",
        "\r\n"
      ]
    },
    {
      "cell_type": "code",
      "metadata": {
        "id": "TPezMRPLrMcV"
      },
      "source": [
        "days = 365\r\n",
        "dt = 1/days\r\n",
        "mu = rets.mean()['FORD']\r\n",
        "sigma = rets.std()['FORD']\r\n",
        "\r\n",
        "def stock_monte_carlo(start_price,days,mu,sigma):\r\n",
        "    price = np.zeros(days)\r\n",
        "    price[0] = start_price\r\n",
        "    shock = np.zeros(days)\r\n",
        "    drift = np.zeros(days)\r\n",
        "\r\n",
        "    for x in range(1,days):\r\n",
        "        shock[x] = np.random.normal(loc=mu * dt, scale=sigma * np.sqrt(dt))\r\n",
        "        drift[x] = mu * dt\r\n",
        "        price[x] = price[x-1] + (price[x-1] * (drift[x] + shock[x]))\r\n",
        "       \r\n",
        "    return price\r\n",
        "\r\n",
        "FORD.head()\r\n",
        "\r\n",
        "start_price=1.25\r\n",
        "\r\n",
        "for run in range(100):#run Monte Carlo simulation 100xtimes\r\n",
        "    plt.plot(stock_monte_carlo(start_price,days,mu,sigma))\r\n",
        "plt.xlabel(\"Days\")\r\n",
        "plt.ylabel(\"Price\")  \r\n",
        "plt.title('Monte Carlo Analysis for FORD')\r\n"
      ],
      "execution_count": null,
      "outputs": []
    },
    {
      "cell_type": "markdown",
      "metadata": {
        "id": "P0ElNlANrijy"
      },
      "source": [
        "SET LARGER NUMBERS OF RUNS"
      ]
    },
    {
      "cell_type": "code",
      "metadata": {
        "id": "c1njw3RrryW9"
      },
      "source": [
        "runs = 10000\r\n",
        "\r\n",
        "simulations = np.zeros(runs)\r\n",
        "\r\n",
        "np.set_printoptions(threshold=5)\r\n",
        "\r\n",
        "for run in range(runs):    \r\n",
        "    simulations[run] = stock_monte_carlo(start_price,days,mu,sigma)[days-1];\r\n"
      ],
      "execution_count": null,
      "outputs": []
    },
    {
      "cell_type": "code",
      "metadata": {
        "id": "XFts7zvMvBLb"
      },
      "source": [
        "q = np.percentile(simulations, 1)\r\n",
        "   \r\n",
        "plt.hist(simulations,bins=200)\r\n",
        "\r\n",
        "plt.figtext(0.6, 0.8, s=\"Start price: $%.2f\" %start_price)\r\n",
        "\r\n",
        "plt.figtext(0.6, 0.7, \"Mean final price: $%.2f\" % simulations.mean())\r\n",
        "\r\n",
        "plt.figtext(0.6, 0.6, \"VaR(0.99): $%.2f\" % (start_price - q,))\r\n",
        "\r\n",
        "plt.figtext(0.15, 0.6, \"q(0.99): $%.2f\" % q)\r\n",
        "\r\n",
        "plt.axvline(x=q, linewidth=4, color='r')\r\n",
        "\r\n",
        "plt.title(u\"Final price distribution for FORD Stock after %s days\" % days, weight='bold');\r\n"
      ],
      "execution_count": null,
      "outputs": []
    },
    {
      "cell_type": "markdown",
      "metadata": {
        "id": "nErjCYUOr-IL"
      },
      "source": [
        "Let's go ahead and get a histogram of the end results for a much larger run.\r\n",
        "Now we'lll define q as the 1% empirical qunatile, this basically means that 99% of the values should fall between here"
      ]
    },
    {
      "cell_type": "code",
      "metadata": {
        "id": "26-IMy0nvD6i"
      },
      "source": [
        "days = 365\r\n",
        "\r\n",
        "dt = 1/days\r\n",
        "\r\n",
        "mu = rets.mean()['VWAGY']\r\n",
        "\r\n",
        "sigma = rets.std()['VWAGY']\r\n",
        "\r\n",
        "def stock_monte_carlo(start_price,days,mu,sigma):\r\n",
        "    price = np.zeros(days)\r\n",
        "    price[0] = start_price\r\n",
        "    shock = np.zeros(days)\r\n",
        "    drift = np.zeros(days)\r\n",
        "\r\n",
        "    for x in range(1,days):\r\n",
        "        shock[x] = np.random.normal(loc=mu * dt, scale=sigma * np.sqrt(dt))\r\n",
        "        drift[x] = mu * dt\r\n",
        "        price[x] = price[x-1] + (price[x-1] * (drift[x] + shock[x]))\r\n",
        "       \r\n",
        "    return price"
      ],
      "execution_count": null,
      "outputs": []
    },
    {
      "cell_type": "code",
      "metadata": {
        "id": "KdGxOdfDvPJN"
      },
      "source": [
        "start_price=20.22\r\n",
        "\r\n",
        "for run in range(100):\r\n",
        "    plt.plot(stock_monte_carlo(start_price,days,mu,sigma))\r\n",
        "plt.xlabel(\"Days\")\r\n",
        "plt.ylabel(\"Price\")  \r\n",
        "plt.title('Monte Carlo Analysis for VW')"
      ],
      "execution_count": null,
      "outputs": []
    },
    {
      "cell_type": "code",
      "metadata": {
        "id": "frpSqk78vWbc"
      },
      "source": [
        "runs = 10000\r\n",
        "simulations = np.zeros(runs)\r\n",
        "np.set_printoptions(threshold=5)\r\n",
        "\r\n",
        "for run in range(runs):    \r\n",
        "    simulations[run] = stock_monte_carlo(start_price,days,mu,sigma)[days-1];\r\n",
        "\r\n",
        "q = np.percentile(simulations, 1)\r\n",
        "plt.hist(simulations,bins=200)\r\n",
        "plt.figtext(0.6, 0.8, s=\"Start price: $%.2f\" %start_price)\r\n",
        "plt.figtext(0.6, 0.7, \"Mean final price: $%.2f\" % simulations.mean())\r\n",
        "plt.figtext(0.6, 0.6, \"VaR(0.99): $%.2f\" % (start_price - q,))\r\n",
        "plt.figtext(0.15, 0.6, \"q(0.99): $%.2f\" % q)\r\n",
        "plt.axvline(x=q, linewidth=4, color='r')\r\n",
        "\r\n",
        "plt.title(u\"Final price distribution for VW Stock after %s days\" % days, weight='bold');"
      ],
      "execution_count": null,
      "outputs": []
    }
  ]
}